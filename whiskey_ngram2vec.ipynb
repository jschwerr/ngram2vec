{
 "cells": [
  {
   "cell_type": "markdown",
   "metadata": {},
   "source": [
    "# Incorporating phrases (n_grams) into a Word2Vec Model\n",
    "### Steps:\n",
    "1. Discovering Common Phrases in Corpora\n",
    "2. Tagging Corpora with Phrases\n",
    "3. Training a Word2Vec Model with the Tagged Corpora\n",
    "\n",
    "### Notes:\n",
    "* For the most part I elected to used RDD's to hold data instead of data frames. Data frames are more intuitive but RDD's usually have faster computation times.\n",
    "* The data I used for this model came from a list of scotch reviews that I found online. It consists of about 2,000 records and its schema is printed below. The limited amount of data we have lends to our model performing more poorly than it would if we had more data."
   ]
  },
  {
   "cell_type": "markdown",
   "metadata": {},
   "source": [
    "# Prepwork and Setup"
   ]
  },
  {
   "cell_type": "markdown",
   "metadata": {},
   "source": [
    "## Imports"
   ]
  },
  {
   "cell_type": "code",
   "execution_count": 1,
   "metadata": {},
   "outputs": [],
   "source": [
    "import os\n",
    "import re\n",
    "import logging\n",
    "import itertools\n",
    "import pandas as pd\n",
    "import matplotlib.pyplot as plt\n",
    "import numpy as np\n",
    "\n",
    "from nltk.corpus import stopwords\n",
    "from operator import add\n",
    "from pyspark import SparkConf, SparkContext, SQLContext\n",
    "from pyspark.sql.types import *\n",
    "from pyspark.ml.classification import LogisticRegression\n",
    "from pyspark.ml.feature import Word2Vec as DfWord2Vec, StringIndexer\n",
    "from pyspark.mllib.evaluation import MulticlassMetrics\n",
    "from pyspark.mllib.feature import Word2Vec\n",
    "\n",
    "char_splitter = re.compile(\"[.,;!:()-]\")\n",
    "abspath = os.path.abspath(os.path.dirname('__file__'))\n",
    "data_file = 'data/scotch_review.csv'\n",
    "stop_words = set(stopwords.words())\n",
    "\n",
    "# print full column width of pandas column's\n",
    "pd.set_option('max_colwidth', -1)\n",
    "\n",
    "logging.basicConfig(\n",
    "    format='%(asctime)s : %(levelname)s : %(message)s',\n",
    "    level=logging.INFO)"
   ]
  },
  {
   "cell_type": "markdown",
   "metadata": {},
   "source": [
    "## Load and Prepare Data"
   ]
  },
  {
   "cell_type": "code",
   "execution_count": 2,
   "metadata": {},
   "outputs": [],
   "source": [
    "# Load data into data frame based on defined schema. Error field catches malformed rows\n",
    "schema = StructType([StructField(\"_c0\", StringType(), True), \n",
    "                     StructField(\"name\", StringType(), True), \n",
    "                     StructField(\"category\", StringType(), True), \n",
    "                     StructField(\"review.point\", IntegerType(), True), \n",
    "                     StructField(\"price\", IntegerType(), True), \n",
    "                     StructField(\"currency\", StringType(), True), \n",
    "                     StructField(\"description\", StringType(), True),\n",
    "                     StructField(\"ErrorField\", StringType(), True)])\n",
    "\n",
    "data_df = \\\n",
    "    (sqlContext.read\n",
    "        .option('mode', 'PERMISSIVE')\n",
    "        .load(os.path.join(abspath, data_file),\n",
    "            format='com.databricks.spark.csv',\n",
    "            header='true',\n",
    "            schema=schema,\n",
    "            nullValue='NA'\n",
    "        )\n",
    "    )\n",
    "\n",
    "# Filter out rows that are corrupted, i.e. have the incorrect number of rows\n",
    "data_df=data_df.filter(data_df.ErrorField.isNull()).drop('ErrorField').drop('currency')\n",
    "data_df=data_df.na.drop(subset=['_c0'])"
   ]
  },
  {
   "cell_type": "code",
   "execution_count": 3,
   "metadata": {},
   "outputs": [
    {
     "name": "stdout",
     "output_type": "stream",
     "text": [
      "root\n",
      " |-- _c0: string (nullable = true)\n",
      " |-- name: string (nullable = true)\n",
      " |-- category: string (nullable = true)\n",
      " |-- review.point: integer (nullable = true)\n",
      " |-- price: integer (nullable = true)\n",
      " |-- description: string (nullable = true)\n",
      "\n"
     ]
    }
   ],
   "source": [
    "data_df.printSchema()"
   ]
  },
  {
   "cell_type": "code",
   "execution_count": 4,
   "metadata": {},
   "outputs": [
    {
     "data": {
      "text/html": [
       "<div>\n",
       "<style scoped>\n",
       "    .dataframe tbody tr th:only-of-type {\n",
       "        vertical-align: middle;\n",
       "    }\n",
       "\n",
       "    .dataframe tbody tr th {\n",
       "        vertical-align: top;\n",
       "    }\n",
       "\n",
       "    .dataframe thead th {\n",
       "        text-align: right;\n",
       "    }\n",
       "</style>\n",
       "<table border=\"1\" class=\"dataframe\">\n",
       "  <thead>\n",
       "    <tr style=\"text-align: right;\">\n",
       "      <th></th>\n",
       "      <th>_c0</th>\n",
       "      <th>name</th>\n",
       "      <th>category</th>\n",
       "      <th>review.point</th>\n",
       "      <th>price</th>\n",
       "      <th>description</th>\n",
       "    </tr>\n",
       "  </thead>\n",
       "  <tbody>\n",
       "    <tr>\n",
       "      <th>0</th>\n",
       "      <td>1</td>\n",
       "      <td>Johnnie Walker Blue Label, 40%</td>\n",
       "      <td>Blended Scotch Whisky</td>\n",
       "      <td>97</td>\n",
       "      <td>225</td>\n",
       "      <td>Magnificently powerful and intense. Caramels, dried peats, elegant cigar smoke, seeds scraped from vanilla beans, brand new pencils, peppercorn, coriander seeds, and star anise make for a deeply satisfying nosing experience. Silky caramels, bountiful fruits of ripe peach, stewed apple, orange pith, and pervasive smoke with elements of burnt tobacco. An abiding finish of smoke, dry spices, and banoffee pie sweetness. Close to perfection. Editor's Choice</td>\n",
       "    </tr>\n",
       "    <tr>\n",
       "      <th>1</th>\n",
       "      <td>4</td>\n",
       "      <td>Compass Box The General, 53.4%</td>\n",
       "      <td>Blended Malt Scotch Whisky</td>\n",
       "      <td>96</td>\n",
       "      <td>325</td>\n",
       "      <td>With a name inspired by a 1926 Buster Keaton movie, only 1,698 bottles produced, and the news that one of the two batches is more than 30 years old, the clues were there that this blend was never going to be cheap. It isn't, but it's superb, rich in flavor that screams dusty old oak office, fresh polish, and Sunday church, with spices, oak dried fruits, squiggly raisins, and a surprising melting fruit-and-nut dairy chocolate back story.</td>\n",
       "    </tr>\n",
       "    <tr>\n",
       "      <th>2</th>\n",
       "      <td>5</td>\n",
       "      <td>Chivas Regal Ultis, 40%</td>\n",
       "      <td>Blended Malt Scotch Whisky</td>\n",
       "      <td>96</td>\n",
       "      <td>160</td>\n",
       "      <td>Captivating, enticing, and wonderfully charming, this first blended malt from Chivas Regal contains selections of five Speyside malts: Strathisla, Longmorn, Tormore, Allt-a-Bhainne, and Braeval. Red apple, cherry, raspberry fudge, peach and mango fruit salad, dusting of cinnamon, and dry heather sprigs. In essence, it’s rich and satisfying, with dark vanilla, apricot, Bourneville-covered Brazil nuts, and tangerine, smoothed over by caramel and wood spices, maltiness, and gingersnap biscuits. Quite heavenly. Editor's Choice</td>\n",
       "    </tr>\n",
       "  </tbody>\n",
       "</table>\n",
       "</div>"
      ],
      "text/plain": [
       "  _c0                            name                    category  \\\n",
       "0  1   Johnnie Walker Blue Label, 40%  Blended Scotch Whisky        \n",
       "1  4   Compass Box The General, 53.4%  Blended Malt Scotch Whisky   \n",
       "2  5   Chivas Regal Ultis, 40%         Blended Malt Scotch Whisky   \n",
       "\n",
       "   review.point  price  \\\n",
       "0  97            225     \n",
       "1  96            325     \n",
       "2  96            160     \n",
       "\n",
       "                                                                                                                                                                                                                                                                                                                                                                                                                                                                                                                                        description  \n",
       "0  Magnificently powerful and intense. Caramels, dried peats, elegant cigar smoke, seeds scraped from vanilla beans, brand new pencils, peppercorn, coriander seeds, and star anise make for a deeply satisfying nosing experience. Silky caramels, bountiful fruits of ripe peach, stewed apple, orange pith, and pervasive smoke with elements of burnt tobacco. An abiding finish of smoke, dry spices, and banoffee pie sweetness. Close to perfection. Editor's Choice                                                                          \n",
       "1  With a name inspired by a 1926 Buster Keaton movie, only 1,698 bottles produced, and the news that one of the two batches is more than 30 years old, the clues were there that this blend was never going to be cheap. It isn't, but it's superb, rich in flavor that screams dusty old oak office, fresh polish, and Sunday church, with spices, oak dried fruits, squiggly raisins, and a surprising melting fruit-and-nut dairy chocolate back story.                                                                                          \n",
       "2  Captivating, enticing, and wonderfully charming, this first blended malt from Chivas Regal contains selections of five Speyside malts: Strathisla, Longmorn, Tormore, Allt-a-Bhainne, and Braeval. Red apple, cherry, raspberry fudge, peach and mango fruit salad, dusting of cinnamon, and dry heather sprigs. In essence, it’s rich and satisfying, with dark vanilla, apricot, Bourneville-covered Brazil nuts, and tangerine, smoothed over by caramel and wood spices, maltiness, and gingersnap biscuits. Quite heavenly. Editor's Choice  "
      ]
     },
     "execution_count": 4,
     "metadata": {},
     "output_type": "execute_result"
    }
   ],
   "source": [
    "data_df.toPandas().head(3)"
   ]
  },
  {
   "cell_type": "code",
   "execution_count": 5,
   "metadata": {},
   "outputs": [
    {
     "data": {
      "text/plain": [
       "['Straw-gold color. On the nose, sweet toffee, citrus notes, seaweed, and spice complement a powerful peat smoke infusion. In body, it is thick and oily. On the palate, a somewhat sweet maltiness up front is run over by a powerful peat smoke locomotive. Again, the whisky is enriched with citrus and pear notes, spice, and seaweed. The finish is powerful, long, and warming. The smoke lingers for minutes, if not hours. If you like your Ardbeg to go to a phenolic extreme, you will cherish this one. This big, powerful whisky makes no apologies for its Islay roots. And the fact that this whisky is bottled at 46% ABV just makes this big whisky even bigger.',\n",
       " \"Ardbeg's first standard release in nearly a decade, An Oa is matured in virgin oak, Pedro Ximénez, and bourbon barrels, with component whiskies married in the distillery's French oak 'Gathering Vat.' The nose offers sweet peat, smoky lemon rind, ginger, and angelica. A soft and sweet palate entry is followed by hot peat, black tea, peppery cloves, and aniseed. Black pepper lingers through the long, smoky finish.\"]"
      ]
     },
     "execution_count": 5,
     "metadata": {},
     "output_type": "execute_result"
    }
   ],
   "source": [
    "# Create an RDD list of each description. This will form our corpus\n",
    "description_rdd = data_df.select('description').rdd.flatMap(list).repartition(10)\n",
    "description_rdd.take(2)"
   ]
  },
  {
   "cell_type": "markdown",
   "metadata": {},
   "source": [
    "# 1. Discovering Common Phrases in Corpora\n",
    "### Steps:\n",
    "1. Segment corpora into candidate phrases\n",
    "2. Select candidate phrases with more than *M* occurrences in the corpora as common phrases"
   ]
  },
  {
   "cell_type": "markdown",
   "metadata": {},
   "source": [
    "### Segment corpora into candidate phrases"
   ]
  },
  {
   "cell_type": "markdown",
   "metadata": {},
   "source": [
    "First, remove special characters that do not indicate a phrase boundary, e.g. \"\\\" or \"%\".\n"
   ]
  },
  {
   "cell_type": "code",
   "execution_count": 6,
   "metadata": {},
   "outputs": [],
   "source": [
    "def remove_non_phrase_boundaries(text):\n",
    "    \"\"\"remove characters that are not indicators of phrase boundaries\"\"\"\n",
    "    return re.sub(\"([{}@\\\"$%&\\\\\\/*'’\\\"]|\\d)\", \"\", text)"
   ]
  },
  {
   "cell_type": "code",
   "execution_count": 7,
   "metadata": {},
   "outputs": [
    {
     "data": {
      "text/plain": [
       "'Straw-gold color. On the nose, sweet toffee, citrus notes, seaweed, and spice complement a powerful peat smoke infusion. In body, it is thick and oily. On the palate, a somewhat sweet maltiness up front is run over by a powerful peat smoke locomotive. Again, the whisky is enriched with citrus and pear notes, spice, and seaweed. The finish is powerful, long, and warming. The smoke lingers for minutes, if not hours. If you like your Ardbeg to go to a phenolic extreme, you will cherish this one. This big, powerful whisky makes no apologies for its Islay roots. And the fact that this whisky is bottled at  ABV just makes this big whisky even bigger.'"
      ]
     },
     "execution_count": 7,
     "metadata": {},
     "output_type": "execute_result"
    }
   ],
   "source": [
    "description_no_special = description_rdd.map(lambda txt: remove_non_phrase_boundaries(txt))\n",
    "description_no_special.first()"
   ]
  },
  {
   "cell_type": "markdown",
   "metadata": {},
   "source": [
    "Next, split text at special characters that do indicate phrase boundaries, e.g. \".\", \"!\", or \"?\". Then, split phrases up further at words that indicate a phrase boundary: either stop words (e.g. \"and\" or \"afterwards\") or words that are shorter than N characters long"
   ]
  },
  {
   "cell_type": "code",
   "execution_count": 8,
   "metadata": {},
   "outputs": [],
   "source": [
    "def generate_candidate_phrases(text, stopwords):\n",
    "    \"\"\" generate phrases using phrase boundary markers \"\"\"\n",
    "\n",
    "    # split up into phrases at punctuation boundary markers, i.e. \".\", \"!\", or \"?\"\n",
    "    coarse_candidates = char_splitter.split(text.lower())\n",
    "\n",
    "    candidate_phrases = []\n",
    "\n",
    "    for coarse_phrase in coarse_candidates:\n",
    "    \n",
    "        words = re.split(\"\\\\s+\", coarse_phrase)\n",
    "        previous_stop = False\n",
    "\n",
    "        # examine each word to determine if it is a phrase boundary marker or\n",
    "        # part of a phrase or lone ranger\n",
    "        for w in words:\n",
    "\n",
    "            if w in stopwords and not previous_stop:\n",
    "                # phrase boundary encountered, so put a hard indicator\n",
    "                candidate_phrases.append(\";\")\n",
    "                previous_stop = True\n",
    "            elif w not in stopwords and len(w) > 2:\n",
    "                # keep adding words to list until a phrase boundary is detected\n",
    "                candidate_phrases.append(w.strip())\n",
    "                previous_stop = False\n",
    "\n",
    "    # get a list of candidate phrases without boundary demarcation\n",
    "    phrases = re.split(\";+\", ' '.join(candidate_phrases))\n",
    "\n",
    "    return phrases"
   ]
  },
  {
   "cell_type": "code",
   "execution_count": 9,
   "metadata": {},
   "outputs": [
    {
     "name": "stdout",
     "output_type": "stream",
     "text": [
      "Example description:\n",
      "Straw-gold color. On the nose, sweet toffee, citrus notes, seaweed, and spice complement a powerful peat smoke infusion. In body, it is thick and oily. On the palate, a somewhat sweet maltiness up front is run over by a powerful peat smoke locomotive. Again, the whisky is enriched with citrus and pear notes, spice, and seaweed. The finish is powerful, long, and warming. The smoke lingers for minutes, if not hours. If you like your Ardbeg to go to a phenolic extreme, you will cherish this one. This big, powerful whisky makes no apologies for its Islay roots. And the fact that this whisky is bottled at  ABV just makes this big whisky even bigger.\n",
      "\n",
      "Example candidate phrases:\n",
      "['straw gold color ', ' nose sweet toffee citrus notes seaweed ', ' spice complement ', ' powerful peat smoke infusion ', ' body ', ' thick ', ' oily ', ' palate ', ' somewhat sweet maltiness ', ' front ', ' run ', ' powerful peat smoke locomotive ', ' ', ' whisky ', ' enriched ', ' citrus ', ' pear notes spice ', ' seaweed ', ' finish ', ' powerful long ', ' warming ', ' smoke lingers ', ' minutes ', ' hours ', ' like ', ' ardbeg ', ' phenolic extreme ', ' cherish ', ' one ', ' big powerful whisky makes ', ' apologies ', ' islay roots ', ' fact ', ' whisky ', ' bottled ', ' abv ', ' makes ', ' big whisky even bigger']\n"
     ]
    }
   ],
   "source": [
    "# Generate candidate phrases\n",
    "candidate_phrases = description_no_special.map(lambda txt: generate_candidate_phrases(txt, stop_words))\n",
    "print(\"Example description:\" + \"\\n\" + description_no_special.first() + \"\\n\")\n",
    "print(\"Example candidate phrases:\" + \"\\n\" + str(candidate_phrases.first()))"
   ]
  },
  {
   "cell_type": "markdown",
   "metadata": {},
   "source": [
    "### Select candidate phrases with more than *M* occurrences in the corpora as common phrases"
   ]
  },
  {
   "cell_type": "markdown",
   "metadata": {},
   "source": [
    "First, perform a map and reduce operation to get a count of each phrase."
   ]
  },
  {
   "cell_type": "code",
   "execution_count": 10,
   "metadata": {},
   "outputs": [],
   "source": [
    "def phrases_to_counts(phrases):\n",
    "    \"\"\" strip any white space and send back a count of 1\"\"\"\n",
    "    clean_phrases = []\n",
    "\n",
    "    for p in phrases:\n",
    "        word = p.strip()\n",
    "\n",
    "        # we only need to count phrases, so ignore unigrams\n",
    "        if len(word) > 1 and ' ' in word:\n",
    "            clean_phrases.append([word, 1])\n",
    "\n",
    "    return clean_phrases"
   ]
  },
  {
   "cell_type": "code",
   "execution_count": 11,
   "metadata": {
    "scrolled": true
   },
   "outputs": [
    {
     "name": "stdout",
     "output_type": "stream",
     "text": [
      "Top 3 phrases by count: [('year old', 103), ('sherry casks', 44), ('chill filtered', 41)]\n",
      "Total num of phrases: 21113\n"
     ]
    }
   ],
   "source": [
    "# Get count of candidate phrases\n",
    "candidates_by_count = candidate_phrases.flatMap(lambda phrase: phrases_to_counts(phrase)) \\\n",
    "    .reduceByKey(add).sortBy(lambda phrases: phrases[1], ascending=False)\n",
    "\n",
    "print(\"Top 3 phrases by count: \" + str(candidates_by_count.take(3)))\n",
    "print(\"Total num of phrases: \" + str(candidates_by_count.count()))"
   ]
  },
  {
   "cell_type": "markdown",
   "metadata": {},
   "source": [
    "Next, filter out phrases that do not occur a minimum number of times in the corpora"
   ]
  },
  {
   "cell_type": "code",
   "execution_count": 12,
   "metadata": {},
   "outputs": [
    {
     "data": {
      "text/plain": [
       "[('age statement', 21),\n",
       " ('american oak', 10),\n",
       " ('binnys beverage depot', 16),\n",
       " ('black pepper', 40),\n",
       " ('bourbon barrels', 29)]"
      ]
     },
     "execution_count": 12,
     "metadata": {},
     "output_type": "execute_result"
    }
   ],
   "source": [
    "# Keep phrases with more than 10 occurences\n",
    "selected_phrases = candidates_by_count.filter(lambda phrases: phrases[1] >= 10) \\\n",
    "        .sortBy(lambda phrases: phrases[0], ascending=True)\n",
    "\n",
    "selected_phrases.take(5)"
   ]
  },
  {
   "attachments": {},
   "cell_type": "markdown",
   "metadata": {},
   "source": [
    "# 2. Tagging Corpora with Phrases\n",
    "### Steps:\n",
    "1. Join the words that make up a selected phrase into one entity using a \"\\_\" character, e.g. \"american oak\" becomes \"american_oak\".\n",
    "2. Create a mapping between the old phrase and the new combined phrase.\n",
    "3. Replace all instances of the old phrase in the corpora with the new combined phrase."
   ]
  },
  {
   "cell_type": "markdown",
   "metadata": {},
   "source": [
    "### Join the words that make up a selected phrase into one entity and create mapping."
   ]
  },
  {
   "cell_type": "code",
   "execution_count": 13,
   "metadata": {},
   "outputs": [
    {
     "data": {
      "text/plain": [
       "[('age statement', 'age_statement'),\n",
       " ('american oak', 'american_oak'),\n",
       " ('binnys beverage depot', 'binnys_beverage_depot'),\n",
       " ('black pepper', 'black_pepper'),\n",
       " ('bourbon barrels', 'bourbon_barrels')]"
      ]
     },
     "execution_count": 13,
     "metadata": {},
     "output_type": "execute_result"
    }
   ],
   "source": [
    "selected_phrases_tags = selected_phrases.map(lambda phrase: (phrase[0], phrase[0].replace(\" \", \"_\")))\n",
    "selected_phrases_tags.take(5)"
   ]
  },
  {
   "cell_type": "code",
   "execution_count": 14,
   "metadata": {},
   "outputs": [],
   "source": [
    "selected_phrases_map = selected_phrases_tags.collectAsMap()\n",
    "\n",
    "# broadcast a few values so that these are not copied to the worker nodes\n",
    "# each time\n",
    "selected_phrases_bc = sc.broadcast(selected_phrases_map)\n",
    "keys = list(selected_phrases_map.keys())\n",
    "keys.sort(key=len, reverse=True)\n",
    "sorted_key_bc = sc.broadcast(keys)"
   ]
  },
  {
   "cell_type": "markdown",
   "metadata": {},
   "source": [
    "### Replace all instances of the old phrase in the corpora with the new combined phrase."
   ]
  },
  {
   "cell_type": "code",
   "execution_count": 15,
   "metadata": {},
   "outputs": [],
   "source": [
    "def tag_data(original_text, phrase_transformation, keys):\n",
    "    \"\"\"Process the pipe separated file\"\"\"\n",
    "    original_text = original_text.lower()\n",
    "\n",
    "    # greedy approach, start with the longest phrase\n",
    "    for phrase in keys:\n",
    "        # keep track of all the substitutes for a given phrase\n",
    "        original_text = original_text.replace(\n",
    "            phrase, phrase_transformation[phrase])\n",
    "\n",
    "    return original_text\n",
    "\n",
    "def remove_punctuation(text):\n",
    "    \"\"\"remove all special characters\"\"\"\n",
    "    return  re.sub('[^A-Za-z0-9\\s]+', '', text)"
   ]
  },
  {
   "cell_type": "code",
   "execution_count": 16,
   "metadata": {},
   "outputs": [
    {
     "data": {
      "text/plain": [
       "['strawgold color on the nose sweet toffee citrus notes seaweed and spice complement a powerful peat_smoke infusion in body it is thick and oily on the palate a somewhat sweet maltiness up front is run over by a powerful peat_smoke locomotive again the whisky is enriched with citrus and pear notes spice and seaweed the finish is powerful long and warming the smoke lingers for minutes if not hours if you like your ardbeg to go to a phenolic extreme you will cherish this one this big powerful whisky makes no apologies for its islay roots and the fact that this whisky is bottled at 46 abv just makes this big whisky even bigger',\n",
       " 'ardbegs first standard release in nearly a decade an oa is matured in virgin oak pedro ximnez and bourbon_barrels with component whiskies married in the distillerys french oak gathering vat the nose offers sweet peat smoky lemon rind ginger and angelica a soft and sweet palate entry is followed by hot peat black tea peppery cloves and aniseed black_pepper lingers through the long smoky finish',\n",
       " 'the newest offering from the impressive balvenie vintage cask line honey caramel custard and seville orange notes with evolving  and increasingly noticeable  dried spice oak resin and leather that integrates well with the sweet fruity notes incredible depth and complexity the balvenie vintage reputation remains intact']"
      ]
     },
     "execution_count": 16,
     "metadata": {},
     "output_type": "execute_result"
    }
   ],
   "source": [
    "# Tag corpus with combined phrases and remove all special characters\n",
    "tagged_text_rdd = description_rdd.map(\n",
    "    lambda txt: tag_data(\n",
    "        remove_punctuation(txt),\n",
    "        selected_phrases_bc.value, sorted_key_bc.value))\n",
    "\n",
    "tagged_text_rdd.take(3)"
   ]
  },
  {
   "cell_type": "markdown",
   "metadata": {},
   "source": [
    "# 3. Training a Phrase2Vec model using Word2Vec"
   ]
  },
  {
   "cell_type": "code",
   "execution_count": 17,
   "metadata": {},
   "outputs": [],
   "source": [
    "# Learn a mapping from words to Vectors.\n",
    "\n",
    "# split each review into a list of words\n",
    "inp = tagged_text_rdd.map(lambda row: row.split(\" \"))\n",
    "\n",
    "word2vec = Word2Vec().setVectorSize(3)\n",
    "model = word2vec.fit(inp)"
   ]
  },
  {
   "cell_type": "markdown",
   "metadata": {},
   "source": [
    "**Note:** I used PySpark's Word2Vec algorithm. The tutorial used Gensim. Should we consider this or another algorithm?"
   ]
  },
  {
   "cell_type": "markdown",
   "metadata": {},
   "source": [
    "### Testing the Word2Vec Model"
   ]
  },
  {
   "cell_type": "code",
   "execution_count": 18,
   "metadata": {},
   "outputs": [
    {
     "data": {
      "text/plain": [
       "[('year old', 103),\n",
       " ('sherry casks', 44),\n",
       " ('chill filtered', 41),\n",
       " ('black pepper', 40),\n",
       " ('bourbon casks', 34)]"
      ]
     },
     "execution_count": 18,
     "metadata": {},
     "output_type": "execute_result"
    }
   ],
   "source": [
    "# Most occuring tagged words:\n",
    "selected_phrases.sortBy(lambda phrase: phrase[1], ascending=False).take(5)"
   ]
  },
  {
   "cell_type": "code",
   "execution_count": 20,
   "metadata": {},
   "outputs": [
    {
     "name": "stdout",
     "output_type": "stream",
     "text": [
      "Phrases most similar to 'sherry_casks':\n",
      "------------------------------------\n",
      "('distilleryonly', 0.9998916983604431)\n",
      "('bourbon_barrels', 0.9992993474006653)\n",
      "('final', 0.9987149834632874)\n",
      "\n",
      "\n",
      "Phrases most similar to 'chill_filtered':\n",
      "------------------------------------\n",
      "('fourth', 0.9977843761444092)\n",
      "('length', 0.9967151284217834)\n",
      "('center', 0.9961327910423279)\n",
      "\n",
      "\n",
      "Phrases most similar to 'black_pepper':\n",
      "------------------------------------\n",
      "('plus', 0.9998775124549866)\n",
      "('passion', 0.9998247623443604)\n",
      "('prickly', 0.9990783929824829)\n"
     ]
    }
   ],
   "source": [
    "sym1 = model.findSynonyms('sherry_casks', 3)\n",
    "sym2 = model.findSynonyms('chill_filtered', 3)\n",
    "sym3 = model.findSynonyms('black_pepper', 3)\n",
    "\n",
    "print(\"Phrases most similar to 'sherry_casks':\")\n",
    "print(\"------------------------------------\")\n",
    "for s in sym1: print(s)\n",
    "\n",
    "print('\\n')\n",
    "\n",
    "print(\"Phrases most similar to 'chill_filtered':\")\n",
    "print(\"------------------------------------\")\n",
    "for s in sym2: print(s)\n",
    "    \n",
    "print('\\n')\n",
    "\n",
    "print(\"Phrases most similar to 'black_pepper':\")\n",
    "print(\"------------------------------------\")\n",
    "for s in sym3: print(s)"
   ]
  },
  {
   "cell_type": "markdown",
   "metadata": {},
   "source": [
    "**Note:** Our model does not perform well because of the limited amount of data we have (~2000 records). Our text mining approach needs more data compared to a semantic chunking approach"
   ]
  },
  {
   "cell_type": "markdown",
   "metadata": {},
   "source": [
    "# Categorizing Whiskey by Review Text Using a Logistic Regression Model"
   ]
  },
  {
   "cell_type": "markdown",
   "metadata": {},
   "source": [
    "### Transform data to a usable format for a Regression Model."
   ]
  },
  {
   "cell_type": "code",
   "execution_count": 22,
   "metadata": {},
   "outputs": [
    {
     "data": {
      "text/html": [
       "<div>\n",
       "<style scoped>\n",
       "    .dataframe tbody tr th:only-of-type {\n",
       "        vertical-align: middle;\n",
       "    }\n",
       "\n",
       "    .dataframe tbody tr th {\n",
       "        vertical-align: top;\n",
       "    }\n",
       "\n",
       "    .dataframe thead th {\n",
       "        text-align: right;\n",
       "    }\n",
       "</style>\n",
       "<table border=\"1\" class=\"dataframe\">\n",
       "  <thead>\n",
       "    <tr style=\"text-align: right;\">\n",
       "      <th></th>\n",
       "      <th>_c0</th>\n",
       "      <th>category</th>\n",
       "      <th>description</th>\n",
       "    </tr>\n",
       "  </thead>\n",
       "  <tbody>\n",
       "    <tr>\n",
       "      <th>0</th>\n",
       "      <td>1</td>\n",
       "      <td>Blended Scotch Whisky</td>\n",
       "      <td>[magnificently, powerful, and, intense, caramels, dried, peats, elegant, cigar, smoke, seeds, scraped, from, vanilla, beans, brand, new, pencils, peppercorn, coriander, seeds, and, star, anise, make, for, a, deeply, satisfying, nosing, experience, silky, caramels, bountiful, fruits, of, ripe, peach, stewed, apple, orange, pith, and, pervasive, smoke, with, elements, of, burnt, tobacco, an, abiding, finish, of, smoke, dry, spices, and, banoffee, pie, sweetness, close, to, perfection, editors, choice]</td>\n",
       "    </tr>\n",
       "    <tr>\n",
       "      <th>1</th>\n",
       "      <td>4</td>\n",
       "      <td>Blended Malt Scotch Whisky</td>\n",
       "      <td>[with, a, name, inspired, by, a, 1926, buster, keaton, movie, only, 1698, bottles, produced, and, the, news, that, one, of, the, two, batches, is, more, than, 30, years_old, the, clues, were, there, that, this, blend, was, never, going, to, be, cheap, it, isnt, but, its, superb, rich, in, flavor, that, screams, dusty, old, oak, office, fresh, polish, and, sunday, church, with, spices, oak, dried, fruits, squiggly, raisins, and, a, surprising, melting, fruitandnut, dairy, chocolate, back, story]</td>\n",
       "    </tr>\n",
       "    <tr>\n",
       "      <th>2</th>\n",
       "      <td>5</td>\n",
       "      <td>Blended Malt Scotch Whisky</td>\n",
       "      <td>[captivating, enticing, and, wonderfully, charming, this, first, blended, malt, from, chivas, regal, contains, selections, of, five, speyside, malts, strathisla, longmorn, tormore, alltabhainne, and, braeval, red, apple, cherry, raspberry, fudge, peach, and, mango, fruit, salad, dusting, of, cinnamon, and, dry, heather, sprigs, in, essence, its, rich, and, satisfying, with, dark, vanilla, apricot, bournevillecovered, brazil, nuts, and, tangerine, smoothed, over, by, caramel, and, wood, spices, maltiness, and, gingersnap, biscuits, quite, heavenly, editors, choice]</td>\n",
       "    </tr>\n",
       "  </tbody>\n",
       "</table>\n",
       "</div>"
      ],
      "text/plain": [
       "  _c0                    category  \\\n",
       "0  1   Blended Scotch Whisky        \n",
       "1  4   Blended Malt Scotch Whisky   \n",
       "2  5   Blended Malt Scotch Whisky   \n",
       "\n",
       "                                                                                                                                                                                                                                                                                                                                                                                                                                                                                                                                                                                  description  \n",
       "0  [magnificently, powerful, and, intense, caramels, dried, peats, elegant, cigar, smoke, seeds, scraped, from, vanilla, beans, brand, new, pencils, peppercorn, coriander, seeds, and, star, anise, make, for, a, deeply, satisfying, nosing, experience, silky, caramels, bountiful, fruits, of, ripe, peach, stewed, apple, orange, pith, and, pervasive, smoke, with, elements, of, burnt, tobacco, an, abiding, finish, of, smoke, dry, spices, and, banoffee, pie, sweetness, close, to, perfection, editors, choice]                                                                    \n",
       "1  [with, a, name, inspired, by, a, 1926, buster, keaton, movie, only, 1698, bottles, produced, and, the, news, that, one, of, the, two, batches, is, more, than, 30, years_old, the, clues, were, there, that, this, blend, was, never, going, to, be, cheap, it, isnt, but, its, superb, rich, in, flavor, that, screams, dusty, old, oak, office, fresh, polish, and, sunday, church, with, spices, oak, dried, fruits, squiggly, raisins, and, a, surprising, melting, fruitandnut, dairy, chocolate, back, story]                                                                         \n",
       "2  [captivating, enticing, and, wonderfully, charming, this, first, blended, malt, from, chivas, regal, contains, selections, of, five, speyside, malts, strathisla, longmorn, tormore, alltabhainne, and, braeval, red, apple, cherry, raspberry, fudge, peach, and, mango, fruit, salad, dusting, of, cinnamon, and, dry, heather, sprigs, in, essence, its, rich, and, satisfying, with, dark, vanilla, apricot, bournevillecovered, brazil, nuts, and, tangerine, smoothed, over, by, caramel, and, wood, spices, maltiness, and, gingersnap, biscuits, quite, heavenly, editors, choice]  "
      ]
     },
     "execution_count": 22,
     "metadata": {},
     "output_type": "execute_result"
    }
   ],
   "source": [
    "# Create a dataframe with 'category' and a list of words and tagged phrases making up 'description'\n",
    "\n",
    "data_df_2 = data_df.rdd.map(lambda x: (x['_c0'], x['category'], \\\n",
    "                            tag_data(remove_punctuation(x['description']), \\\n",
    "                                     selected_phrases_bc.value, sorted_key_bc.value).split(\" \") \\\n",
    "                           )).toDF(['_c0', 'category', 'description'])\n",
    "\n",
    "data_df_2.toPandas().head(3)"
   ]
  },
  {
   "cell_type": "markdown",
   "metadata": {},
   "source": [
    "### Train a new Word2Vec Model including the category label. Output will be features for Regression Model."
   ]
  },
  {
   "cell_type": "code",
   "execution_count": 23,
   "metadata": {},
   "outputs": [
    {
     "data": {
      "text/html": [
       "<div>\n",
       "<style scoped>\n",
       "    .dataframe tbody tr th:only-of-type {\n",
       "        vertical-align: middle;\n",
       "    }\n",
       "\n",
       "    .dataframe tbody tr th {\n",
       "        vertical-align: top;\n",
       "    }\n",
       "\n",
       "    .dataframe thead th {\n",
       "        text-align: right;\n",
       "    }\n",
       "</style>\n",
       "<table border=\"1\" class=\"dataframe\">\n",
       "  <thead>\n",
       "    <tr style=\"text-align: right;\">\n",
       "      <th></th>\n",
       "      <th>_c0</th>\n",
       "      <th>category</th>\n",
       "      <th>description</th>\n",
       "      <th>descriptionFeatures</th>\n",
       "    </tr>\n",
       "  </thead>\n",
       "  <tbody>\n",
       "    <tr>\n",
       "      <th>0</th>\n",
       "      <td>1</td>\n",
       "      <td>Blended Scotch Whisky</td>\n",
       "      <td>[magnificently, powerful, and, intense, caramels, dried, peats, elegant, cigar, smoke, seeds, scraped, from, vanilla, beans, brand, new, pencils, peppercorn, coriander, seeds, and, star, anise, make, for, a, deeply, satisfying, nosing, experience, silky, caramels, bountiful, fruits, of, ripe, peach, stewed, apple, orange, pith, and, pervasive, smoke, with, elements, of, burnt, tobacco, an, abiding, finish, of, smoke, dry, spices, and, banoffee, pie, sweetness, close, to, perfection, editors, choice]</td>\n",
       "      <td>[0.01640937403620531, -0.04437112542941715, -0.06707983388927956, -0.033815577530979433, 0.06661495231233086, -0.02159928811262503, 0.014410875674167817, -0.001593708715077038, 0.026286381386770783, 0.03387806017549751, 0.018754916440229863, 0.007102825674916279, -0.042503344216101774, 0.0003255087614172336, -0.03599819493705802, 0.010388505652151776, -0.030872520673173396, -0.010217784718075894, 0.007876878519627182, 0.013570593035899838, 0.011302430593676752, -0.04975516357499697, -0.002411041184765936, 0.028717278578727874, 0.05216784041223229, 0.022604905834393296, -0.023030947170671865, 0.008439278778634176, -0.043186714936217126, 0.00045013049825546193, -0.009149618300425849, 0.028993870732268657, 0.025095979729843693, 0.01185803356665102, 0.05283013953488659, -0.023445135056549177, 0.001673991982401772, 0.025648140182690415, -0.03461033557929719, -0.004941152218221264, 0.023305269910699943, 0.035463293115643675, -0.01647484384364251, 0.08153130285526541, 0.005963018505788183, 0.06251834296607271, 0.018993016790993737, -0.02484105535514766, 0.015393289480760524, -0.004499335268822809]</td>\n",
       "    </tr>\n",
       "  </tbody>\n",
       "</table>\n",
       "</div>"
      ],
      "text/plain": [
       "  _c0               category  \\\n",
       "0  1   Blended Scotch Whisky   \n",
       "\n",
       "                                                                                                                                                                                                                                                                                                                                                                                                                                                                                                                description  \\\n",
       "0  [magnificently, powerful, and, intense, caramels, dried, peats, elegant, cigar, smoke, seeds, scraped, from, vanilla, beans, brand, new, pencils, peppercorn, coriander, seeds, and, star, anise, make, for, a, deeply, satisfying, nosing, experience, silky, caramels, bountiful, fruits, of, ripe, peach, stewed, apple, orange, pith, and, pervasive, smoke, with, elements, of, burnt, tobacco, an, abiding, finish, of, smoke, dry, spices, and, banoffee, pie, sweetness, close, to, perfection, editors, choice]   \n",
       "\n",
       "                                                                                                                                                                                                                                                                                                                                                                                                                                                                                                                                                                                                                                                                                                                                                                                                                                                                                                                                                                                                                                                                                                                                   descriptionFeatures  \n",
       "0  [0.01640937403620531, -0.04437112542941715, -0.06707983388927956, -0.033815577530979433, 0.06661495231233086, -0.02159928811262503, 0.014410875674167817, -0.001593708715077038, 0.026286381386770783, 0.03387806017549751, 0.018754916440229863, 0.007102825674916279, -0.042503344216101774, 0.0003255087614172336, -0.03599819493705802, 0.010388505652151776, -0.030872520673173396, -0.010217784718075894, 0.007876878519627182, 0.013570593035899838, 0.011302430593676752, -0.04975516357499697, -0.002411041184765936, 0.028717278578727874, 0.05216784041223229, 0.022604905834393296, -0.023030947170671865, 0.008439278778634176, -0.043186714936217126, 0.00045013049825546193, -0.009149618300425849, 0.028993870732268657, 0.025095979729843693, 0.01185803356665102, 0.05283013953488659, -0.023445135056549177, 0.001673991982401772, 0.025648140182690415, -0.03461033557929719, -0.004941152218221264, 0.023305269910699943, 0.035463293115643675, -0.01647484384364251, 0.08153130285526541, 0.005963018505788183, 0.06251834296607271, 0.018993016790993737, -0.02484105535514766, 0.015393289480760524, -0.004499335268822809]  "
      ]
     },
     "execution_count": 23,
     "metadata": {},
     "output_type": "execute_result"
    }
   ],
   "source": [
    "# Train a Word2Vec Model with description and add the vectors to the data frame as features\n",
    "word2Vec = DfWord2Vec(vectorSize=50, minCount=10, inputCol=\"description\", outputCol=\"descriptionFeatures\")\n",
    "model = word2Vec.fit(data_df_2.select('description'))\n",
    "\n",
    "data_df_2 = model.transform(data_df_2)\n",
    "data_df_2.toPandas().head(1)"
   ]
  },
  {
   "cell_type": "markdown",
   "metadata": {},
   "source": [
    "### Map Category labels to numerical indices. This is required for the Regression Model."
   ]
  },
  {
   "cell_type": "code",
   "execution_count": 28,
   "metadata": {
    "scrolled": true
   },
   "outputs": [
    {
     "data": {
      "text/html": [
       "<div>\n",
       "<style scoped>\n",
       "    .dataframe tbody tr th:only-of-type {\n",
       "        vertical-align: middle;\n",
       "    }\n",
       "\n",
       "    .dataframe tbody tr th {\n",
       "        vertical-align: top;\n",
       "    }\n",
       "\n",
       "    .dataframe thead th {\n",
       "        text-align: right;\n",
       "    }\n",
       "</style>\n",
       "<table border=\"1\" class=\"dataframe\">\n",
       "  <thead>\n",
       "    <tr style=\"text-align: right;\">\n",
       "      <th></th>\n",
       "      <th>category</th>\n",
       "      <th>categoryIndex</th>\n",
       "    </tr>\n",
       "  </thead>\n",
       "  <tbody>\n",
       "    <tr>\n",
       "      <th>0</th>\n",
       "      <td>Blended Scotch Whisky</td>\n",
       "      <td>1.0</td>\n",
       "    </tr>\n",
       "    <tr>\n",
       "      <th>1</th>\n",
       "      <td>Grain Scotch Whisky</td>\n",
       "      <td>4.0</td>\n",
       "    </tr>\n",
       "    <tr>\n",
       "      <th>2</th>\n",
       "      <td>Single Malt Scotch</td>\n",
       "      <td>0.0</td>\n",
       "    </tr>\n",
       "    <tr>\n",
       "      <th>3</th>\n",
       "      <td>Blended Malt Scotch Whisky</td>\n",
       "      <td>2.0</td>\n",
       "    </tr>\n",
       "    <tr>\n",
       "      <th>4</th>\n",
       "      <td>Single Grain Whisky</td>\n",
       "      <td>3.0</td>\n",
       "    </tr>\n",
       "  </tbody>\n",
       "</table>\n",
       "</div>"
      ],
      "text/plain": [
       "                     category  categoryIndex\n",
       "0  Blended Scotch Whisky       1.0          \n",
       "1  Grain Scotch Whisky         4.0          \n",
       "2  Single Malt Scotch          0.0          \n",
       "3  Blended Malt Scotch Whisky  2.0          \n",
       "4  Single Grain Whisky         3.0          "
      ]
     },
     "execution_count": 28,
     "metadata": {},
     "output_type": "execute_result"
    }
   ],
   "source": [
    "# Convert the 'category' variables to corresponding indices\n",
    "stringIndexer = StringIndexer(inputCol='category', outputCol='categoryIndex')\n",
    "indexed = stringIndexer.fit(data_df_2).transform(data_df_2)\n",
    "\n",
    "indexed.select(['category','categoryIndex']).distinct().toPandas().head()"
   ]
  },
  {
   "cell_type": "markdown",
   "metadata": {},
   "source": [
    "### Train Logistic Regression Model and make predictions."
   ]
  },
  {
   "cell_type": "code",
   "execution_count": 29,
   "metadata": {},
   "outputs": [],
   "source": [
    "### Randomly split data into training and test sets. set seed for reproducibility\n",
    "trainingData, testData = indexed.randomSplit([0.75, 0.35], seed=100)\n",
    "\n",
    "# Create initial LogisticRegression model\n",
    "lr = LogisticRegression(labelCol=\"categoryIndex\", featuresCol=\"descriptionFeatures\", maxIter=10)\n",
    "\n",
    "# Train model with Training Data\n",
    "lrModel = lr.fit(trainingData)"
   ]
  },
  {
   "cell_type": "code",
   "execution_count": 30,
   "metadata": {},
   "outputs": [],
   "source": [
    "# Predict category labels for the test data\n",
    "predictions = lrModel.transform(testData)\n",
    "\n",
    "# Compute raw scores on the test set\n",
    "predictionAndLabels = predictions.select(['prediction', 'categoryIndex']).rdd"
   ]
  },
  {
   "cell_type": "markdown",
   "metadata": {},
   "source": [
    "### Evaluate model performance"
   ]
  },
  {
   "cell_type": "code",
   "execution_count": 52,
   "metadata": {},
   "outputs": [],
   "source": [
    "def plot_confusion_matrix(cm, classes, category_map, title='Confusion Matrix', cmap=plt.cm.Greens):\n",
    "    plt.imshow(cm, interpolation='nearest', cmap=cmap)\n",
    "    plt.title(title)\n",
    "    plt.colorbar()\n",
    "    tick_marks=np.arange(len(classes))\n",
    "    plt.xticks(tick_marks, classes, rotation=90)\n",
    "    plt.yticks(tick_marks, classes)\n",
    "    \n",
    "    fmt = '.2f' if 'd' else '0'\n",
    "    thresh = cm.max() / 2\n",
    "    \n",
    "    for i, j in itertools.product(range(cm.shape[0]), range(cm.shape[1])):\n",
    "        plt.text(j, i, format(cm[i, j], fmt), horizontalalignment=\"center\", color=\"white\" if cm[i, j] > thresh else \"black\")\n",
    "        plt.tight_layout()\n",
    "        plt.ylabel('True label')\n",
    "        plt.xlabel('Predicted label')"
   ]
  },
  {
   "cell_type": "code",
   "execution_count": 59,
   "metadata": {},
   "outputs": [
    {
     "name": "stdout",
     "output_type": "stream",
     "text": [
      "Model Accuracy:  73.68%\n"
     ]
    },
    {
     "data": {
      "image/png": "[encoded data removed]",
      "text/plain": [
       "<Figure size 576x576 with 2 Axes>"
      ]
     },
     "metadata": {
      "needs_background": "light"
     },
     "output_type": "display_data"
    }
   ],
   "source": [
    "# get metrics for our logistic regression model\n",
    "metrics = MulticlassMetrics(predictionAndLabels)\n",
    "\n",
    "cm = metrics.confusionMatrix().toArray()\n",
    "\n",
    "# map categories to category indices\n",
    "category_map = indexed.select(['category','categoryIndex']).distinct().toPandas()\n",
    "category_map = pd.Series(category_map.categoryIndex.values, index=category_map.category).to_dict()\n",
    "\n",
    "# plot the confusion matrix and show model accuracy\n",
    "plt.figure(figsize=(8,8))\n",
    "\n",
    "plot_confusion_matrix(cm, classes=list(category_map.keys()), category_map=category_map, title='Confusion matrix for Category Prediction')\n",
    "\n",
    "print(\"Model Accuracy: \" + \"{0: .2%}\".format(metrics.accuracy))\n",
    "\n",
    "plt.show()"
   ]
  }
 ],
 "metadata": {
  "kernelspec": {
   "display_name": "Python [conda env:env]",
   "language": "python",
   "name": "conda-env-env-py"
  },
  "language_info": {
   "codemirror_mode": {
    "name": "ipython",
    "version": 3
   },
   "file_extension": ".py",
   "mimetype": "text/x-python",
   "name": "python",
   "nbconvert_exporter": "python",
   "pygments_lexer": "ipython3",
   "version": "3.7.0"
  }
 },
 "nbformat": 4,
 "nbformat_minor": 2
}
